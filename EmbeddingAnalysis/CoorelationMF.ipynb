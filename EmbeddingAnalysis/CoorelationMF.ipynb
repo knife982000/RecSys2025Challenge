{
 "cells": [
  {
   "cell_type": "code",
   "execution_count": 1,
   "id": "759653c9-ec7f-4d7e-a666-375c0ff60235",
   "metadata": {},
   "outputs": [],
   "source": [
    "%load_ext autoreload \n",
    "%autoreload 2"
   ]
  },
  {
   "cell_type": "code",
   "execution_count": 2,
   "id": "9aad0a13-9d64-4485-87c1-67570f3dd141",
   "metadata": {},
   "outputs": [],
   "source": [
    "import polars as pl\n",
    "import numpy as np\n",
    "import seaborn as sns\n",
    "from matplotlib import pyplot as plt\n",
    "from tqdm.auto import tqdm\n",
    "import pandas as pd\n",
    "import pickle\n",
    "import os\n",
    "import sqlite3\n",
    "from scipy.stats import spearmanr\n",
    "import torch"
   ]
  },
  {
   "cell_type": "code",
   "execution_count": 3,
   "id": "8d1a50a5-dd61-42c7-9ac3-074f0fd05a01",
   "metadata": {},
   "outputs": [],
   "source": [
    "df = pl.read_parquet('enc2_fast_cat_price.parquet')\n",
    "\n",
    "df = df.with_columns(\n",
    "    pl.col('visits').fill_null(0),\n",
    "    pl.col('adds').fill_null(0),\n",
    "    pl.col('rms').fill_null(0),\n",
    "    pl.col('searchs').fill_null(0),\n",
    "    pl.col('buys').fill_null(0),\n",
    "    pl.col('kde_visits').fill_null([0] * 11),\n",
    "    pl.col('kde_adds').fill_null([0] * 11),\n",
    "    pl.col('kde_rms').fill_null([0] * 11),\n",
    "    pl.col('kde_searchs').fill_null([0] * 11),\n",
    "    pl.col('kde_buys').fill_null([0] * 11),\n",
    "    pl.col('url_visit').fill_null([]),\n",
    "    pl.col('sku_add').fill_null([]),\n",
    "    pl.col('sku_rm').fill_null([]),\n",
    "    pl.col('query_search').fill_null([0] * 64),\n",
    "    pl.col('sku_buy').fill_null([]),\n",
    "    pl.col('sku_add_cat').fill_null([]),\n",
    "    pl.col('sku_rm_cat').fill_null([]),\n",
    "    pl.col('sku_buy_cat').fill_null([]),\n",
    "    pl.col('sku_add_price').fill_null([]),\n",
    "    pl.col('sku_rm_price').fill_null([]),\n",
    "    pl.col('sku_buy_price').fill_null([])\n",
    ")"
   ]
  },
  {
   "cell_type": "code",
   "execution_count": 4,
   "id": "a5603cce-c30f-4e73-8ff0-2daea74f98e9",
   "metadata": {},
   "outputs": [],
   "source": [
    "df = df.with_columns(pl.col('sku_buy_price').map_elements(lambda x: 0 if len(x) == 0 else sum(x)/len(x), return_dtype=pl.Float64).alias('price_buy'),\n",
    "                    pl.col('sku_rm_price').map_elements(lambda x: 0 if len(x) == 0 else sum(x)/len(x), return_dtype=pl.Float64).alias('price_rm'),\n",
    "                    pl.col('sku_add_price').map_elements(lambda x: 0 if len(x) == 0 else sum(x)/len(x), return_dtype=pl.Float64).alias('price_add'))"
   ]
  },
  {
   "cell_type": "code",
   "execution_count": 5,
   "id": "970369ea-0fc7-40cf-943e-b848b1dcb096",
   "metadata": {},
   "outputs": [],
   "source": [
    "points = np.arange(11) / 10\n",
    "masses = {}\n",
    "for c in ['kde_buys', 'kde_visits', 'kde_adds', 'kde_rms', 'kde_searchs']:\n",
    "    alias = 'mass_' + c.split('_')[1]\n",
    "    density = np.asarray(df[c].to_list())\n",
    "    mass = np.sum(density * points, axis=1) / np.clip(np.sum(density, axis=1), a_min=1e-8, a_max=None)\n",
    "    masses[alias] = mass\n",
    "\n",
    "df_mass = pl.DataFrame(data=masses)\n",
    "\n",
    "df = pl.concat([df, df_mass], how='horizontal')"
   ]
  },
  {
   "cell_type": "code",
   "execution_count": 6,
   "id": "2c044396-1f22-4f0a-99d3-80be3e676ccf",
   "metadata": {},
   "outputs": [
    {
     "data": {
      "text/html": [
       "<div><style>\n",
       ".dataframe > thead > tr,\n",
       ".dataframe > tbody > tr {\n",
       "  text-align: right;\n",
       "  white-space: pre-wrap;\n",
       "}\n",
       "</style>\n",
       "<small>shape: (9, 31)</small><table border=\"1\" class=\"dataframe\"><thead><tr><th>statistic</th><th>client_id</th><th>visits</th><th>adds</th><th>rms</th><th>searchs</th><th>buys</th><th>kde_visits</th><th>kde_adds</th><th>kde_rms</th><th>kde_searchs</th><th>kde_buys</th><th>url_visit</th><th>sku_add</th><th>sku_rm</th><th>query_search</th><th>sku_buy</th><th>sku_add_cat</th><th>sku_rm_cat</th><th>sku_buy_cat</th><th>sku_add_price</th><th>sku_rm_price</th><th>sku_buy_price</th><th>price_buy</th><th>price_rm</th><th>price_add</th><th>mass_buys</th><th>mass_visits</th><th>mass_adds</th><th>mass_rms</th><th>mass_searchs</th></tr><tr><td>str</td><td>f64</td><td>f64</td><td>f64</td><td>f64</td><td>f64</td><td>f64</td><td>f64</td><td>f64</td><td>f64</td><td>f64</td><td>f64</td><td>f64</td><td>f64</td><td>f64</td><td>f64</td><td>f64</td><td>f64</td><td>f64</td><td>f64</td><td>f64</td><td>f64</td><td>f64</td><td>f64</td><td>f64</td><td>f64</td><td>f64</td><td>f64</td><td>f64</td><td>f64</td><td>f64</td></tr></thead><tbody><tr><td>&quot;count&quot;</td><td>1e6</td><td>1e6</td><td>1e6</td><td>1e6</td><td>1e6</td><td>1e6</td><td>1e6</td><td>1e6</td><td>1e6</td><td>1e6</td><td>1e6</td><td>1e6</td><td>1e6</td><td>1e6</td><td>1e6</td><td>1e6</td><td>1e6</td><td>1e6</td><td>1e6</td><td>1e6</td><td>1e6</td><td>1e6</td><td>1e6</td><td>1e6</td><td>1e6</td><td>1e6</td><td>1e6</td><td>1e6</td><td>1e6</td><td>1e6</td></tr><tr><td>&quot;null_count&quot;</td><td>0.0</td><td>0.0</td><td>0.0</td><td>0.0</td><td>0.0</td><td>0.0</td><td>0.0</td><td>0.0</td><td>0.0</td><td>0.0</td><td>0.0</td><td>0.0</td><td>0.0</td><td>0.0</td><td>0.0</td><td>0.0</td><td>0.0</td><td>0.0</td><td>0.0</td><td>0.0</td><td>0.0</td><td>0.0</td><td>0.0</td><td>0.0</td><td>0.0</td><td>0.0</td><td>0.0</td><td>0.0</td><td>0.0</td><td>0.0</td></tr><tr><td>&quot;mean&quot;</td><td>499999.5</td><td>36.763237</td><td>2.707519</td><td>1.148122</td><td>4.46087</td><td>1.096716</td><td>null</td><td>null</td><td>null</td><td>null</td><td>null</td><td>null</td><td>null</td><td>null</td><td>null</td><td>null</td><td>null</td><td>null</td><td>null</td><td>null</td><td>null</td><td>null</td><td>29.047337</td><td>15.769935</td><td>31.259434</td><td>0.263441</td><td>0.458623</td><td>0.298378</td><td>0.160259</td><td>0.193171</td></tr><tr><td>&quot;std&quot;</td><td>288675.278932</td><td>116.908754</td><td>9.765367</td><td>6.043549</td><td>20.112477</td><td>2.889363</td><td>null</td><td>null</td><td>null</td><td>null</td><td>null</td><td>null</td><td>null</td><td>null</td><td>null</td><td>null</td><td>null</td><td>null</td><td>null</td><td>null</td><td>null</td><td>null</td><td>33.110316</td><td>28.362211</td><td>33.331405</td><td>0.3203</td><td>0.30092</td><td>0.330088</td><td>0.288542</td><td>0.307538</td></tr><tr><td>&quot;min&quot;</td><td>0.0</td><td>0.0</td><td>0.0</td><td>0.0</td><td>0.0</td><td>0.0</td><td>null</td><td>null</td><td>null</td><td>null</td><td>null</td><td>null</td><td>null</td><td>null</td><td>null</td><td>null</td><td>null</td><td>null</td><td>null</td><td>null</td><td>null</td><td>null</td><td>0.0</td><td>0.0</td><td>0.0</td><td>0.0</td><td>0.0</td><td>0.0</td><td>0.0</td><td>0.0</td></tr><tr><td>&quot;25%&quot;</td><td>250000.0</td><td>2.0</td><td>0.0</td><td>0.0</td><td>0.0</td><td>0.0</td><td>null</td><td>null</td><td>null</td><td>null</td><td>null</td><td>null</td><td>null</td><td>null</td><td>null</td><td>null</td><td>null</td><td>null</td><td>null</td><td>null</td><td>null</td><td>null</td><td>0.0</td><td>0.0</td><td>0.0</td><td>0.0</td><td>0.194966</td><td>0.0</td><td>0.0</td><td>0.0</td></tr><tr><td>&quot;50%&quot;</td><td>500000.0</td><td>11.0</td><td>1.0</td><td>0.0</td><td>0.0</td><td>1.0</td><td>null</td><td>null</td><td>null</td><td>null</td><td>null</td><td>null</td><td>null</td><td>null</td><td>null</td><td>null</td><td>null</td><td>null</td><td>null</td><td>null</td><td>null</td><td>null</td><td>9.0</td><td>0.0</td><td>22.166667</td><td>0.068849</td><td>0.480763</td><td>0.153164</td><td>0.0</td><td>0.0</td></tr><tr><td>&quot;75%&quot;</td><td>749999.0</td><td>34.0</td><td>2.0</td><td>1.0</td><td>2.0</td><td>1.0</td><td>null</td><td>null</td><td>null</td><td>null</td><td>null</td><td>null</td><td>null</td><td>null</td><td>null</td><td>null</td><td>null</td><td>null</td><td>null</td><td>null</td><td>null</td><td>null</td><td>60.0</td><td>23.0</td><td>61.0</td><td>0.532166</td><td>0.718896</td><td>0.597072</td><td>0.19811</td><td>0.375758</td></tr><tr><td>&quot;max&quot;</td><td>9.99999e5</td><td>29676.0</td><td>1597.0</td><td>1145.0</td><td>3384.0</td><td>644.0</td><td>null</td><td>null</td><td>null</td><td>null</td><td>null</td><td>null</td><td>null</td><td>null</td><td>null</td><td>null</td><td>null</td><td>null</td><td>null</td><td>null</td><td>null</td><td>null</td><td>99.0</td><td>99.0</td><td>99.0</td><td>0.94799</td><td>0.94799</td><td>0.947987</td><td>0.947985</td><td>0.947988</td></tr></tbody></table></div>"
      ],
      "text/plain": [
       "shape: (9, 31)\n",
       "┌────────────┬───────────────┬────────────┬──────────┬───┬─────────────┬───────────┬──────────┬──────────────┐\n",
       "│ statistic  ┆ client_id     ┆ visits     ┆ adds     ┆ … ┆ mass_visits ┆ mass_adds ┆ mass_rms ┆ mass_searchs │\n",
       "│ ---        ┆ ---           ┆ ---        ┆ ---      ┆   ┆ ---         ┆ ---       ┆ ---      ┆ ---          │\n",
       "│ str        ┆ f64           ┆ f64        ┆ f64      ┆   ┆ f64         ┆ f64       ┆ f64      ┆ f64          │\n",
       "╞════════════╪═══════════════╪════════════╪══════════╪═══╪═════════════╪═══════════╪══════════╪══════════════╡\n",
       "│ count      ┆ 1e6           ┆ 1e6        ┆ 1e6      ┆ … ┆ 1e6         ┆ 1e6       ┆ 1e6      ┆ 1e6          │\n",
       "│ null_count ┆ 0.0           ┆ 0.0        ┆ 0.0      ┆ … ┆ 0.0         ┆ 0.0       ┆ 0.0      ┆ 0.0          │\n",
       "│ mean       ┆ 499999.5      ┆ 36.763237  ┆ 2.707519 ┆ … ┆ 0.458623    ┆ 0.298378  ┆ 0.160259 ┆ 0.193171     │\n",
       "│ std        ┆ 288675.278932 ┆ 116.908754 ┆ 9.765367 ┆ … ┆ 0.30092     ┆ 0.330088  ┆ 0.288542 ┆ 0.307538     │\n",
       "│ min        ┆ 0.0           ┆ 0.0        ┆ 0.0      ┆ … ┆ 0.0         ┆ 0.0       ┆ 0.0      ┆ 0.0          │\n",
       "│ 25%        ┆ 250000.0      ┆ 2.0        ┆ 0.0      ┆ … ┆ 0.194966    ┆ 0.0       ┆ 0.0      ┆ 0.0          │\n",
       "│ 50%        ┆ 500000.0      ┆ 11.0       ┆ 1.0      ┆ … ┆ 0.480763    ┆ 0.153164  ┆ 0.0      ┆ 0.0          │\n",
       "│ 75%        ┆ 749999.0      ┆ 34.0       ┆ 2.0      ┆ … ┆ 0.718896    ┆ 0.597072  ┆ 0.19811  ┆ 0.375758     │\n",
       "│ max        ┆ 9.99999e5     ┆ 29676.0    ┆ 1597.0   ┆ … ┆ 0.94799     ┆ 0.947987  ┆ 0.947985 ┆ 0.947988     │\n",
       "└────────────┴───────────────┴────────────┴──────────┴───┴─────────────┴───────────┴──────────┴──────────────┘"
      ]
     },
     "execution_count": 6,
     "metadata": {},
     "output_type": "execute_result"
    }
   ],
   "source": [
    "df.describe()"
   ]
  },
  {
   "cell_type": "code",
   "execution_count": 7,
   "id": "db0a9a48-4792-41b0-8fe4-ee2cdb00601e",
   "metadata": {},
   "outputs": [],
   "source": [
    "clients = np.load('data/input/relevant_clients.npy')\n",
    "buys = pl.read_parquet('data/product_buy.parquet')"
   ]
  },
  {
   "cell_type": "code",
   "execution_count": 8,
   "id": "143c841e-b481-4c37-b169-3130f64474ad",
   "metadata": {},
   "outputs": [],
   "source": [
    "buys = buys.filter(pl.col('client_id').is_in(set(clients)))"
   ]
  },
  {
   "cell_type": "code",
   "execution_count": 9,
   "id": "654f36e8-7600-4804-83e2-5cd9c7e3b68d",
   "metadata": {},
   "outputs": [
    {
     "data": {
      "text/html": [
       "<div><style>\n",
       ".dataframe > thead > tr,\n",
       ".dataframe > tbody > tr {\n",
       "  text-align: right;\n",
       "  white-space: pre-wrap;\n",
       "}\n",
       "</style>\n",
       "<small>shape: (9, 31)</small><table border=\"1\" class=\"dataframe\"><thead><tr><th>statistic</th><th>client_id</th><th>visits</th><th>adds</th><th>rms</th><th>searchs</th><th>buys</th><th>kde_visits</th><th>kde_adds</th><th>kde_rms</th><th>kde_searchs</th><th>kde_buys</th><th>url_visit</th><th>sku_add</th><th>sku_rm</th><th>query_search</th><th>sku_buy</th><th>sku_add_cat</th><th>sku_rm_cat</th><th>sku_buy_cat</th><th>sku_add_price</th><th>sku_rm_price</th><th>sku_buy_price</th><th>price_buy</th><th>price_rm</th><th>price_add</th><th>mass_buys</th><th>mass_visits</th><th>mass_adds</th><th>mass_rms</th><th>mass_searchs</th></tr><tr><td>str</td><td>f64</td><td>f64</td><td>f64</td><td>f64</td><td>f64</td><td>f64</td><td>f64</td><td>f64</td><td>f64</td><td>f64</td><td>f64</td><td>f64</td><td>f64</td><td>f64</td><td>f64</td><td>f64</td><td>f64</td><td>f64</td><td>f64</td><td>f64</td><td>f64</td><td>f64</td><td>f64</td><td>f64</td><td>f64</td><td>f64</td><td>f64</td><td>f64</td><td>f64</td><td>f64</td></tr></thead><tbody><tr><td>&quot;count&quot;</td><td>510971.0</td><td>510971.0</td><td>510971.0</td><td>510971.0</td><td>510971.0</td><td>510971.0</td><td>510971.0</td><td>510971.0</td><td>510971.0</td><td>510971.0</td><td>510971.0</td><td>510971.0</td><td>510971.0</td><td>510971.0</td><td>510971.0</td><td>510971.0</td><td>510971.0</td><td>510971.0</td><td>510971.0</td><td>510971.0</td><td>510971.0</td><td>510971.0</td><td>510971.0</td><td>510971.0</td><td>510971.0</td><td>510971.0</td><td>510971.0</td><td>510971.0</td><td>510971.0</td><td>510971.0</td></tr><tr><td>&quot;null_count&quot;</td><td>0.0</td><td>0.0</td><td>0.0</td><td>0.0</td><td>0.0</td><td>0.0</td><td>0.0</td><td>0.0</td><td>0.0</td><td>0.0</td><td>0.0</td><td>0.0</td><td>0.0</td><td>0.0</td><td>0.0</td><td>0.0</td><td>0.0</td><td>0.0</td><td>0.0</td><td>0.0</td><td>0.0</td><td>0.0</td><td>0.0</td><td>0.0</td><td>0.0</td><td>0.0</td><td>0.0</td><td>0.0</td><td>0.0</td><td>0.0</td></tr><tr><td>&quot;mean&quot;</td><td>499889.265857</td><td>50.143593</td><td>3.895321</td><td>1.653626</td><td>6.231007</td><td>2.146337</td><td>null</td><td>null</td><td>null</td><td>null</td><td>null</td><td>null</td><td>null</td><td>null</td><td>null</td><td>null</td><td>null</td><td>null</td><td>null</td><td>null</td><td>null</td><td>null</td><td>56.847329</td><td>18.016703</td><td>36.994913</td><td>0.515569</td><td>0.399931</td><td>0.359835</td><td>0.191306</td><td>0.213084</td></tr><tr><td>&quot;std&quot;</td><td>288606.515506</td><td>145.039547</td><td>12.821275</td><td>8.002104</td><td>25.832602</td><td>3.753066</td><td>null</td><td>null</td><td>null</td><td>null</td><td>null</td><td>null</td><td>null</td><td>null</td><td>null</td><td>null</td><td>null</td><td>null</td><td>null</td><td>null</td><td>null</td><td>null</td><td>23.772945</td><td>29.389455</td><td>32.778649</td><td>0.266061</td><td>0.318315</td><td>0.330652</td><td>0.307445</td><td>0.318119</td></tr><tr><td>&quot;min&quot;</td><td>1.0</td><td>0.0</td><td>0.0</td><td>0.0</td><td>0.0</td><td>1.0</td><td>null</td><td>null</td><td>null</td><td>null</td><td>null</td><td>null</td><td>null</td><td>null</td><td>null</td><td>null</td><td>null</td><td>null</td><td>null</td><td>null</td><td>null</td><td>null</td><td>0.0</td><td>0.0</td><td>0.0</td><td>0.052014</td><td>0.0</td><td>0.0</td><td>0.0</td><td>0.0</td></tr><tr><td>&quot;25%&quot;</td><td>249976.0</td><td>0.0</td><td>0.0</td><td>0.0</td><td>0.0</td><td>1.0</td><td>null</td><td>null</td><td>null</td><td>null</td><td>null</td><td>null</td><td>null</td><td>null</td><td>null</td><td>null</td><td>null</td><td>null</td><td>null</td><td>null</td><td>null</td><td>null</td><td>39.0</td><td>0.0</td><td>0.0</td><td>0.283735</td><td>0.0</td><td>0.0</td><td>0.0</td><td>0.0</td></tr><tr><td>&quot;50%&quot;</td><td>499265.0</td><td>17.0</td><td>1.0</td><td>0.0</td><td>0.0</td><td>1.0</td><td>null</td><td>null</td><td>null</td><td>null</td><td>null</td><td>null</td><td>null</td><td>null</td><td>null</td><td>null</td><td>null</td><td>null</td><td>null</td><td>null</td><td>null</td><td>null</td><td>59.0</td><td>0.0</td><td>37.5</td><td>0.524185</td><td>0.4246</td><td>0.333922</td><td>0.0</td><td>0.0</td></tr><tr><td>&quot;75%&quot;</td><td>749780.0</td><td>49.0</td><td>3.0</td><td>1.0</td><td>3.0</td><td>2.0</td><td>null</td><td>null</td><td>null</td><td>null</td><td>null</td><td>null</td><td>null</td><td>null</td><td>null</td><td>null</td><td>null</td><td>null</td><td>null</td><td>null</td><td>null</td><td>null</td><td>76.0</td><td>34.0</td><td>66.0</td><td>0.746678</td><td>0.679975</td><td>0.662614</td><td>0.380899</td><td>0.4672</td></tr><tr><td>&quot;max&quot;</td><td>999995.0</td><td>29676.0</td><td>1597.0</td><td>1145.0</td><td>3384.0</td><td>644.0</td><td>null</td><td>null</td><td>null</td><td>null</td><td>null</td><td>null</td><td>null</td><td>null</td><td>null</td><td>null</td><td>null</td><td>null</td><td>null</td><td>null</td><td>null</td><td>null</td><td>99.0</td><td>99.0</td><td>99.0</td><td>0.94799</td><td>0.947938</td><td>0.947958</td><td>0.947938</td><td>0.947978</td></tr></tbody></table></div>"
      ],
      "text/plain": [
       "shape: (9, 31)\n",
       "┌────────────┬───────────────┬────────────┬───────────┬───┬─────────────┬───────────┬──────────┬──────────────┐\n",
       "│ statistic  ┆ client_id     ┆ visits     ┆ adds      ┆ … ┆ mass_visits ┆ mass_adds ┆ mass_rms ┆ mass_searchs │\n",
       "│ ---        ┆ ---           ┆ ---        ┆ ---       ┆   ┆ ---         ┆ ---       ┆ ---      ┆ ---          │\n",
       "│ str        ┆ f64           ┆ f64        ┆ f64       ┆   ┆ f64         ┆ f64       ┆ f64      ┆ f64          │\n",
       "╞════════════╪═══════════════╪════════════╪═══════════╪═══╪═════════════╪═══════════╪══════════╪══════════════╡\n",
       "│ count      ┆ 510971.0      ┆ 510971.0   ┆ 510971.0  ┆ … ┆ 510971.0    ┆ 510971.0  ┆ 510971.0 ┆ 510971.0     │\n",
       "│ null_count ┆ 0.0           ┆ 0.0        ┆ 0.0       ┆ … ┆ 0.0         ┆ 0.0       ┆ 0.0      ┆ 0.0          │\n",
       "│ mean       ┆ 499889.265857 ┆ 50.143593  ┆ 3.895321  ┆ … ┆ 0.399931    ┆ 0.359835  ┆ 0.191306 ┆ 0.213084     │\n",
       "│ std        ┆ 288606.515506 ┆ 145.039547 ┆ 12.821275 ┆ … ┆ 0.318315    ┆ 0.330652  ┆ 0.307445 ┆ 0.318119     │\n",
       "│ min        ┆ 1.0           ┆ 0.0        ┆ 0.0       ┆ … ┆ 0.0         ┆ 0.0       ┆ 0.0      ┆ 0.0          │\n",
       "│ 25%        ┆ 249976.0      ┆ 0.0        ┆ 0.0       ┆ … ┆ 0.0         ┆ 0.0       ┆ 0.0      ┆ 0.0          │\n",
       "│ 50%        ┆ 499265.0      ┆ 17.0       ┆ 1.0       ┆ … ┆ 0.4246      ┆ 0.333922  ┆ 0.0      ┆ 0.0          │\n",
       "│ 75%        ┆ 749780.0      ┆ 49.0       ┆ 3.0       ┆ … ┆ 0.679975    ┆ 0.662614  ┆ 0.380899 ┆ 0.4672       │\n",
       "│ max        ┆ 999995.0      ┆ 29676.0    ┆ 1597.0    ┆ … ┆ 0.947938    ┆ 0.947958  ┆ 0.947938 ┆ 0.947978     │\n",
       "└────────────┴───────────────┴────────────┴───────────┴───┴─────────────┴───────────┴──────────┴──────────────┘"
      ]
     },
     "execution_count": 9,
     "metadata": {},
     "output_type": "execute_result"
    }
   ],
   "source": [
    "df.filter(pl.col('buys') > 0).describe()"
   ]
  },
  {
   "cell_type": "code",
   "execution_count": 10,
   "id": "aed3f49f-205c-4634-bab4-b7801f3c849b",
   "metadata": {},
   "outputs": [],
   "source": [
    "embs = np.load('analysis/full.npy')"
   ]
  },
  {
   "cell_type": "code",
   "execution_count": 11,
   "id": "06659edd-9903-47b4-b406-d61ee5cca303",
   "metadata": {},
   "outputs": [],
   "source": [
    "df_embs = pl.from_numpy(embs, schema=['x', 'y'])"
   ]
  },
  {
   "cell_type": "code",
   "execution_count": 12,
   "id": "1f38ae31-7a10-4041-b09a-4a1b9abaa6a8",
   "metadata": {},
   "outputs": [],
   "source": [
    "df_full = pl.concat([df, df_embs], how=\"horizontal\")"
   ]
  },
  {
   "cell_type": "code",
   "execution_count": 13,
   "id": "bfc57e6e-5d4e-410f-95bd-751c41e4f807",
   "metadata": {},
   "outputs": [],
   "source": [
    "from collections import Counter\n",
    "\n",
    "df_part = df_full.select(['client_id', 'sku_buy_cat'])\n",
    "\n",
    "interactions = []\n",
    "values = []\n",
    "\n",
    "for x in df_part.iter_rows():\n",
    "    idx = x[0]\n",
    "    adds = Counter()\n",
    "    for v in x[1]:\n",
    "        interactions.append([idx, v])\n",
    "        values.append(1)\n"
   ]
  },
  {
   "cell_type": "code",
   "execution_count": 14,
   "id": "11dc4c75-3cf1-4e96-804e-f99a959d7732",
   "metadata": {},
   "outputs": [
    {
     "name": "stdout",
     "output_type": "stream",
     "text": [
      "Starting...\n"
     ]
    },
    {
     "data": {
      "application/vnd.jupyter.widget-view+json": {
       "model_id": "a034d79962d94ac58981680ea755f41b",
       "version_major": 2,
       "version_minor": 0
      },
      "text/plain": [
       "  0%|          | 0/100 [00:00<?, ?it/s]"
      ]
     },
     "metadata": {},
     "output_type": "display_data"
    },
    {
     "name": "stdout",
     "output_type": "stream",
     "text": [
      "Epoch 10, Loss: 8.9988\n",
      "Epoch 20, Loss: 2.8767\n",
      "Epoch 30, Loss: 0.7607\n",
      "Epoch 40, Loss: 0.2267\n",
      "Epoch 50, Loss: 0.1190\n",
      "Epoch 60, Loss: 0.0769\n",
      "Epoch 70, Loss: 0.0540\n",
      "Epoch 80, Loss: 0.0401\n",
      "Epoch 90, Loss: 0.0311\n",
      "Epoch 100, Loss: 0.0251\n"
     ]
    }
   ],
   "source": [
    "import torch\n",
    "import torch.nn as nn\n",
    "import torch.optim as optim\n",
    "\n",
    "torch.manual_seed(42)\n",
    "np.random.seed(42)\n",
    "\n",
    "device = torch.device(\"cuda\" if torch.cuda.is_available() else \"cpu\")\n",
    "# Example dummy data\n",
    "user_item_pairs = interactions\n",
    "ratings = values\n",
    "\n",
    "# Convert to tensors\n",
    "user_ids = torch.tensor([u for u, _ in user_item_pairs], dtype=torch.long)\n",
    "item_ids = torch.tensor([i for _, i in user_item_pairs], dtype=torch.long)\n",
    "ratings = torch.tensor(ratings, dtype=torch.float).to(device)\n",
    "\n",
    "# Hyperparameters\n",
    "num_users = 1_000_0000 #max(user_ids).item() + 1\n",
    "num_items = 6443 + 1 #max(item_ids).item() + 1\n",
    "\n",
    "\n",
    "embedding_dim = 32\n",
    "lr = 0.001 #to test it waw 0.01\n",
    "epochs = 100\n",
    "\n",
    "# Matrix Factorization Model\n",
    "class MatrixFactorization(nn.Module):\n",
    "    def __init__(self, num_users, num_items, embedding_dim):\n",
    "        super().__init__()\n",
    "        self.user_embed = nn.Embedding(num_users, embedding_dim)\n",
    "        self.item_embed = nn.Embedding(num_items, embedding_dim)\n",
    "\n",
    "    def forward(self, user_ids, item_ids):\n",
    "        user_vecs = self.user_embed(user_ids)\n",
    "        item_vecs = self.item_embed(item_ids)\n",
    "        preds = (user_vecs * item_vecs).sum(dim=1)  # Dot product\n",
    "        return preds\n",
    "\n",
    "model = MatrixFactorization(num_users, num_items, embedding_dim).to(device)\n",
    "criterion = nn.MSELoss()\n",
    "optimizer = optim.Adam(model.parameters(), lr=lr)\n",
    "\n",
    "print('Starting...')\n",
    "# Training loop\n",
    "idx = np.arange(user_ids.shape[0])\n",
    "\n",
    "bs = 4000\n",
    "for epoch in tqdm(range(epochs)):\n",
    "    model.train()\n",
    "    np.random.shuffle(idx)\n",
    "    total_loss = 0\n",
    "    for i in range(0, idx.shape[0], bs):\n",
    "        u, i, r = user_ids[idx[i:i+bs]].to(device), item_ids[idx[i:i+bs]].to(device), ratings[idx[i:i+bs]].to(device)\n",
    "        u_n = torch.randint(0, num_users, size=(bs,), device=device).long()\n",
    "        i_n = torch.randint(0, num_items, size=(bs,), device=device).long()\n",
    "        r_n = torch.zeros_like(i_n, device=device)\n",
    "        u = torch.concat((u, u_n), dim=0)\n",
    "        i = torch.concat((i, i_n), dim=0)\n",
    "        r = torch.concat((r, r_n), dim=0)\n",
    "        preds = model(u, i)\n",
    "        loss = criterion(preds, r)\n",
    "\n",
    "        optimizer.zero_grad()\n",
    "        loss.backward()\n",
    "        optimizer.step()\n",
    "        total_loss += loss.item()\n",
    "\n",
    "    if (epoch + 1) % 10 == 0:\n",
    "        print(f\"Epoch {epoch+1}, Loss: {total_loss / len(range(0, idx.shape[0], bs)):.4f}\")\n",
    "        \n",
    "del idx"
   ]
  },
  {
   "cell_type": "code",
   "execution_count": 15,
   "id": "f4a0e829-25d5-4964-bc3d-f10a6d14ff21",
   "metadata": {},
   "outputs": [
    {
     "data": {
      "text/plain": [
       "MatrixFactorization(\n",
       "  (user_embed): Embedding(10000000, 32)\n",
       "  (item_embed): Embedding(6444, 32)\n",
       ")"
      ]
     },
     "execution_count": 15,
     "metadata": {},
     "output_type": "execute_result"
    }
   ],
   "source": [
    "model.to('cpu')"
   ]
  },
  {
   "cell_type": "code",
   "execution_count": 16,
   "id": "bc414acf-32aa-4b12-930c-5d16914666cb",
   "metadata": {},
   "outputs": [],
   "source": [
    "embs_c = model.item_embed.weight.detach().numpy()\n",
    "embs_u = model.user_embed.weight.detach().numpy()"
   ]
  },
  {
   "cell_type": "code",
   "execution_count": 17,
   "id": "2255f705-1202-4e24-ab64-04676cf24466",
   "metadata": {},
   "outputs": [],
   "source": [
    "embs = np.load('Models/EMA_OneCycleLarge/embeddings.npy')"
   ]
  },
  {
   "cell_type": "code",
   "execution_count": 18,
   "id": "d22d45c0-90b3-44ab-b684-8047ec4bfcb2",
   "metadata": {},
   "outputs": [],
   "source": [
    "from scipy.optimize import linear_sum_assignment\n",
    "\n",
    "\n",
    "def analysis_1(df_full, embs, sample_size=1_000_000, alternative='two-sided'):\n",
    "    dfs = df_full.select(['client_id']).to_pandas()\n",
    "    \n",
    "    df_1 = dfs.sample(sample_size, random_state=42, replace=True).copy()\n",
    "    df_2 = dfs.sample(sample_size, random_state=1024, replace=True).copy()\n",
    "    x = df_1['client_id'].to_list()\n",
    "    y = df_2['client_id'].to_list()\n",
    "    s = np.sum(embs[x, :] * embs[y, :], axis=1)\n",
    "    u = np.sum(embs_u[x, :] * embs_u[y, :], axis=1)\n",
    "    print(spearmanr(u, s, alternative=alternative))\n",
    "\n",
    "def analysis(df_full, embs, action='add', sample_size=1_000_000, alternative='two-sided'):\n",
    "    sku, cat =  f'sku_{action}', f'sku_{action}_cat'\n",
    "    dfs = df_full.filter(pl.col(f'{action}s') > 0).select(['client_id', sku, cat]).to_pandas()\n",
    "    print(len(dfs))\n",
    "    df_1 = dfs.sample(sample_size, random_state=42, replace=True).copy()\n",
    "    df_2 = dfs.sample(sample_size, random_state=1024, replace=True).copy()\n",
    "    \n",
    "    sets_1 = []\n",
    "    for x in tqdm(df_1.itertuples(), total=len(df_1)):\n",
    "        x_c = list(x.__getattribute__(cat))\n",
    "        sets_1.append((x.client_id, x_c))\n",
    "    \n",
    "    sets_2 = []\n",
    "    for x in tqdm(df_2.itertuples(), total=len(df_2)):\n",
    "        x_c = list(x.__getattribute__(cat))\n",
    "        sets_2.append((x.client_id, x_c))\n",
    "    \n",
    "    sims = set()\n",
    "    for i in tqdm(range(len(df_1))):\n",
    "        x_id, x_c = sets_1[i]\n",
    "        y_id, y_c = sets_2[i]\n",
    "        if x_id == y_id:\n",
    "            continue\n",
    "        if x_id < y_id:\n",
    "            x_id, y_id = y_id, x_id\n",
    "        #s = np.mean(np.max(embs_cat[x_c] @ embs_cat[y_c].T, axis=1)) + np.mean(np.max(embs_cat[x_c] @ embs_cat[y_c].T, axis=0))\n",
    "        mat = embs_c[x_c] @ embs_c[y_c].T\n",
    "        row_ind, col_ind = linear_sum_assignment(-mat)\n",
    "        s = mat[row_ind, col_ind].sum()\n",
    "        sims.add((x_id, y_id, s))\n",
    "    \n",
    "    data = list(sims)\n",
    "    x = [d[0] for d in data]\n",
    "    y = [d[1] for d in data]\n",
    "    c = [d[2] for d in data]\n",
    "    s = np.sum(embs[x, :] * embs[y, :], axis=1)\n",
    "    u = np.sum(embs_u[x, :] * embs_u[y, :], axis=1)\n",
    "    print(spearmanr(c, s, alternative=alternative))\n",
    "    print(spearmanr(u, s, alternative=alternative))\n",
    "    print(len(data))"
   ]
  },
  {
   "cell_type": "code",
   "execution_count": 19,
   "id": "98d1b79c-7f8a-4331-8476-088d6b812f17",
   "metadata": {},
   "outputs": [
    {
     "name": "stdout",
     "output_type": "stream",
     "text": [
      "SignificanceResult(statistic=0.0033087039605329935, pvalue=0.0009372723990262921)\n",
      "SignificanceResult(statistic=0.007793345961656196, pvalue=6.5201536791437706e-15)\n",
      "SignificanceResult(statistic=-0.007001227301745633, pvalue=2.5359038524982805e-12)\n"
     ]
    }
   ],
   "source": [
    "analysis_1(df_full, embs)\n",
    "analysis_1(df_full, embs[:,:1024])\n",
    "analysis_1(df_full, embs[:, 1024:])"
   ]
  },
  {
   "cell_type": "code",
   "execution_count": 20,
   "id": "000cdb91-d43e-4cfe-afe5-f0501c7361b5",
   "metadata": {},
   "outputs": [
    {
     "name": "stdout",
     "output_type": "stream",
     "text": [
      "510971\n"
     ]
    },
    {
     "data": {
      "application/vnd.jupyter.widget-view+json": {
       "model_id": "fba024511662491cb2e1162153192bc3",
       "version_major": 2,
       "version_minor": 0
      },
      "text/plain": [
       "  0%|          | 0/1000000 [00:00<?, ?it/s]"
      ]
     },
     "metadata": {},
     "output_type": "display_data"
    },
    {
     "data": {
      "application/vnd.jupyter.widget-view+json": {
       "model_id": "4e5f01bec2404fc092b3b81b7d1a73e2",
       "version_major": 2,
       "version_minor": 0
      },
      "text/plain": [
       "  0%|          | 0/1000000 [00:00<?, ?it/s]"
      ]
     },
     "metadata": {},
     "output_type": "display_data"
    },
    {
     "data": {
      "application/vnd.jupyter.widget-view+json": {
       "model_id": "612bf15adee742a79e392f2ecc060b69",
       "version_major": 2,
       "version_minor": 0
      },
      "text/plain": [
       "  0%|          | 0/1000000 [00:00<?, ?it/s]"
      ]
     },
     "metadata": {},
     "output_type": "display_data"
    },
    {
     "name": "stdout",
     "output_type": "stream",
     "text": [
      "SignificanceResult(statistic=0.04461362592320651, pvalue=0.0)\n",
      "SignificanceResult(statistic=0.011134859173805606, pvalue=8.460108791246006e-29)\n",
      "999993\n"
     ]
    }
   ],
   "source": [
    "analysis(df_full, embs, action='buy')"
   ]
  },
  {
   "cell_type": "code",
   "execution_count": 21,
   "id": "767529c8-648f-45b3-ab56-17688cda2906",
   "metadata": {},
   "outputs": [
    {
     "name": "stdout",
     "output_type": "stream",
     "text": [
      "full\n"
     ]
    }
   ],
   "source": [
    "print('full')"
   ]
  },
  {
   "cell_type": "code",
   "execution_count": 22,
   "id": "57c64648-af7c-4589-b54b-1be899764a5e",
   "metadata": {},
   "outputs": [
    {
     "name": "stdout",
     "output_type": "stream",
     "text": [
      "buy\n",
      "510971\n"
     ]
    },
    {
     "data": {
      "application/vnd.jupyter.widget-view+json": {
       "model_id": "148bae60bf78407ea7f8a50e8a1647ee",
       "version_major": 2,
       "version_minor": 0
      },
      "text/plain": [
       "  0%|          | 0/1000000 [00:00<?, ?it/s]"
      ]
     },
     "metadata": {},
     "output_type": "display_data"
    },
    {
     "data": {
      "application/vnd.jupyter.widget-view+json": {
       "model_id": "dae0c921abfe42a0aacc5a5c2194a73e",
       "version_major": 2,
       "version_minor": 0
      },
      "text/plain": [
       "  0%|          | 0/1000000 [00:00<?, ?it/s]"
      ]
     },
     "metadata": {},
     "output_type": "display_data"
    },
    {
     "data": {
      "application/vnd.jupyter.widget-view+json": {
       "model_id": "97f57995d46d4afab94de72d9beb220f",
       "version_major": 2,
       "version_minor": 0
      },
      "text/plain": [
       "  0%|          | 0/1000000 [00:00<?, ?it/s]"
      ]
     },
     "metadata": {},
     "output_type": "display_data"
    },
    {
     "name": "stdout",
     "output_type": "stream",
     "text": [
      "SignificanceResult(statistic=0.04461362592320651, pvalue=0.0)\n",
      "SignificanceResult(statistic=0.011134859173805606, pvalue=8.460108791246006e-29)\n",
      "999993\n",
      "add\n",
      "557093\n"
     ]
    },
    {
     "data": {
      "application/vnd.jupyter.widget-view+json": {
       "model_id": "b91d3f592b9e4c7c88df36f9aaa9a3f7",
       "version_major": 2,
       "version_minor": 0
      },
      "text/plain": [
       "  0%|          | 0/1000000 [00:00<?, ?it/s]"
      ]
     },
     "metadata": {},
     "output_type": "display_data"
    },
    {
     "data": {
      "application/vnd.jupyter.widget-view+json": {
       "model_id": "3bc8281e6f93446b84166d5cb5653364",
       "version_major": 2,
       "version_minor": 0
      },
      "text/plain": [
       "  0%|          | 0/1000000 [00:00<?, ?it/s]"
      ]
     },
     "metadata": {},
     "output_type": "display_data"
    },
    {
     "data": {
      "application/vnd.jupyter.widget-view+json": {
       "model_id": "b915591fbcc14fedb0b231373bcb1d6a",
       "version_major": 2,
       "version_minor": 0
      },
      "text/plain": [
       "  0%|          | 0/1000000 [00:00<?, ?it/s]"
      ]
     },
     "metadata": {},
     "output_type": "display_data"
    },
    {
     "name": "stdout",
     "output_type": "stream",
     "text": [
      "SignificanceResult(statistic=0.13399380687282447, pvalue=0.0)\n",
      "SignificanceResult(statistic=0.019801024907761717, pvalue=2.811396716635924e-87)\n",
      "999994\n",
      "rm\n",
      "289432\n"
     ]
    },
    {
     "data": {
      "application/vnd.jupyter.widget-view+json": {
       "model_id": "54b5e1f31ffe44e893e7d768c80dd431",
       "version_major": 2,
       "version_minor": 0
      },
      "text/plain": [
       "  0%|          | 0/1000000 [00:00<?, ?it/s]"
      ]
     },
     "metadata": {},
     "output_type": "display_data"
    },
    {
     "data": {
      "application/vnd.jupyter.widget-view+json": {
       "model_id": "5b83e4f0e4594dc186cb6ec7dc6857d0",
       "version_major": 2,
       "version_minor": 0
      },
      "text/plain": [
       "  0%|          | 0/1000000 [00:00<?, ?it/s]"
      ]
     },
     "metadata": {},
     "output_type": "display_data"
    },
    {
     "data": {
      "application/vnd.jupyter.widget-view+json": {
       "model_id": "a11625b262db4a9b87a1fcf60bcc8c22",
       "version_major": 2,
       "version_minor": 0
      },
      "text/plain": [
       "  0%|          | 0/1000000 [00:00<?, ?it/s]"
      ]
     },
     "metadata": {},
     "output_type": "display_data"
    },
    {
     "name": "stdout",
     "output_type": "stream",
     "text": [
      "SignificanceResult(statistic=0.1366799524205363, pvalue=0.0)\n",
      "SignificanceResult(statistic=0.03454076718537825, pvalue=1.381932497687098e-261)\n",
      "999992\n"
     ]
    }
   ],
   "source": [
    "print('buy')\n",
    "analysis(df_full, embs, action='buy')\n",
    "print('add')\n",
    "analysis(df_full, embs, action='add')\n",
    "print('rm')\n",
    "analysis(df_full, embs, action='rm')"
   ]
  },
  {
   "cell_type": "code",
   "execution_count": 23,
   "id": "17ed8818-4798-4955-88fb-c1be4854119a",
   "metadata": {},
   "outputs": [
    {
     "name": "stdout",
     "output_type": "stream",
     "text": [
      "1c\n"
     ]
    }
   ],
   "source": [
    "print('1c')"
   ]
  },
  {
   "cell_type": "code",
   "execution_count": 24,
   "id": "5fe7375f-5c34-4cda-b81e-24b49766469d",
   "metadata": {},
   "outputs": [
    {
     "name": "stdout",
     "output_type": "stream",
     "text": [
      "buy\n",
      "510971\n"
     ]
    },
    {
     "data": {
      "application/vnd.jupyter.widget-view+json": {
       "model_id": "bc03be6cd9eb47baa702dd2450844fbb",
       "version_major": 2,
       "version_minor": 0
      },
      "text/plain": [
       "  0%|          | 0/1000000 [00:00<?, ?it/s]"
      ]
     },
     "metadata": {},
     "output_type": "display_data"
    },
    {
     "data": {
      "application/vnd.jupyter.widget-view+json": {
       "model_id": "acb72ee8db11481b8b10612acb08f253",
       "version_major": 2,
       "version_minor": 0
      },
      "text/plain": [
       "  0%|          | 0/1000000 [00:00<?, ?it/s]"
      ]
     },
     "metadata": {},
     "output_type": "display_data"
    },
    {
     "data": {
      "application/vnd.jupyter.widget-view+json": {
       "model_id": "1cc9152b52884855ac7fb0021e62982f",
       "version_major": 2,
       "version_minor": 0
      },
      "text/plain": [
       "  0%|          | 0/1000000 [00:00<?, ?it/s]"
      ]
     },
     "metadata": {},
     "output_type": "display_data"
    },
    {
     "name": "stdout",
     "output_type": "stream",
     "text": [
      "SignificanceResult(statistic=0.06498378026698967, pvalue=0.0)\n",
      "SignificanceResult(statistic=0.01263733103889208, pvalue=1.3069933857907169e-36)\n",
      "999993\n",
      "add\n",
      "557093\n"
     ]
    },
    {
     "data": {
      "application/vnd.jupyter.widget-view+json": {
       "model_id": "650ce20b16f041d78016d0b46b421955",
       "version_major": 2,
       "version_minor": 0
      },
      "text/plain": [
       "  0%|          | 0/1000000 [00:00<?, ?it/s]"
      ]
     },
     "metadata": {},
     "output_type": "display_data"
    },
    {
     "data": {
      "application/vnd.jupyter.widget-view+json": {
       "model_id": "7a356c3d90364afeb8b581228cf3accc",
       "version_major": 2,
       "version_minor": 0
      },
      "text/plain": [
       "  0%|          | 0/1000000 [00:00<?, ?it/s]"
      ]
     },
     "metadata": {},
     "output_type": "display_data"
    },
    {
     "data": {
      "application/vnd.jupyter.widget-view+json": {
       "model_id": "74cd688f61de41258cb307e555f8aa3d",
       "version_major": 2,
       "version_minor": 0
      },
      "text/plain": [
       "  0%|          | 0/1000000 [00:00<?, ?it/s]"
      ]
     },
     "metadata": {},
     "output_type": "display_data"
    },
    {
     "name": "stdout",
     "output_type": "stream",
     "text": [
      "SignificanceResult(statistic=0.16655750092284746, pvalue=0.0)\n",
      "SignificanceResult(statistic=0.022476427348290563, pvalue=6.636663637413625e-112)\n",
      "999994\n",
      "rm\n",
      "289432\n"
     ]
    },
    {
     "data": {
      "application/vnd.jupyter.widget-view+json": {
       "model_id": "6bac6e8db6a34a31be551a2081ceca24",
       "version_major": 2,
       "version_minor": 0
      },
      "text/plain": [
       "  0%|          | 0/1000000 [00:00<?, ?it/s]"
      ]
     },
     "metadata": {},
     "output_type": "display_data"
    },
    {
     "data": {
      "application/vnd.jupyter.widget-view+json": {
       "model_id": "1ec70d77efba4bf7982224e620198736",
       "version_major": 2,
       "version_minor": 0
      },
      "text/plain": [
       "  0%|          | 0/1000000 [00:00<?, ?it/s]"
      ]
     },
     "metadata": {},
     "output_type": "display_data"
    },
    {
     "data": {
      "application/vnd.jupyter.widget-view+json": {
       "model_id": "16b1981b1c244c4cac202da89df288f3",
       "version_major": 2,
       "version_minor": 0
      },
      "text/plain": [
       "  0%|          | 0/1000000 [00:00<?, ?it/s]"
      ]
     },
     "metadata": {},
     "output_type": "display_data"
    },
    {
     "name": "stdout",
     "output_type": "stream",
     "text": [
      "SignificanceResult(statistic=0.13739591574646817, pvalue=0.0)\n",
      "SignificanceResult(statistic=0.03495362933969878, pvalue=7.898828040177763e-268)\n",
      "999992\n"
     ]
    }
   ],
   "source": [
    "print('buy')\n",
    "analysis(df_full, embs[:, :1024], action='buy')\n",
    "print('add')\n",
    "analysis(df_full, embs[:, :1024], action='add')\n",
    "print('rm')\n",
    "analysis(df_full, embs[:, :1024], action='rm')"
   ]
  },
  {
   "cell_type": "code",
   "execution_count": 25,
   "id": "ad1c9c47-1162-428a-9467-f8e6f49f5062",
   "metadata": {},
   "outputs": [
    {
     "name": "stdout",
     "output_type": "stream",
     "text": [
      "ema\n"
     ]
    }
   ],
   "source": [
    "print('ema')"
   ]
  },
  {
   "cell_type": "code",
   "execution_count": 26,
   "id": "be1b4775-feea-419e-a2f9-2555b176a462",
   "metadata": {},
   "outputs": [
    {
     "name": "stdout",
     "output_type": "stream",
     "text": [
      "buy\n",
      "510971\n"
     ]
    },
    {
     "data": {
      "application/vnd.jupyter.widget-view+json": {
       "model_id": "2c39acf82b3245439ed01a18f419177c",
       "version_major": 2,
       "version_minor": 0
      },
      "text/plain": [
       "  0%|          | 0/1000000 [00:00<?, ?it/s]"
      ]
     },
     "metadata": {},
     "output_type": "display_data"
    },
    {
     "data": {
      "application/vnd.jupyter.widget-view+json": {
       "model_id": "4279d621c5c74b599dca63cadd9bd450",
       "version_major": 2,
       "version_minor": 0
      },
      "text/plain": [
       "  0%|          | 0/1000000 [00:00<?, ?it/s]"
      ]
     },
     "metadata": {},
     "output_type": "display_data"
    },
    {
     "data": {
      "application/vnd.jupyter.widget-view+json": {
       "model_id": "711cd17f3a5043b4ba366d65492da651",
       "version_major": 2,
       "version_minor": 0
      },
      "text/plain": [
       "  0%|          | 0/1000000 [00:00<?, ?it/s]"
      ]
     },
     "metadata": {},
     "output_type": "display_data"
    },
    {
     "name": "stdout",
     "output_type": "stream",
     "text": [
      "SignificanceResult(statistic=-0.02513945110165957, pvalue=1.6727614120039385e-139)\n",
      "SignificanceResult(statistic=0.0015354770574672243, pvalue=0.12466825647553213)\n",
      "999993\n",
      "add\n",
      "557093\n"
     ]
    },
    {
     "data": {
      "application/vnd.jupyter.widget-view+json": {
       "model_id": "fe26b69511f946e39e81c72c81db9398",
       "version_major": 2,
       "version_minor": 0
      },
      "text/plain": [
       "  0%|          | 0/1000000 [00:00<?, ?it/s]"
      ]
     },
     "metadata": {},
     "output_type": "display_data"
    },
    {
     "data": {
      "application/vnd.jupyter.widget-view+json": {
       "model_id": "98db2a6143184cbb80d39ae4c004b798",
       "version_major": 2,
       "version_minor": 0
      },
      "text/plain": [
       "  0%|          | 0/1000000 [00:00<?, ?it/s]"
      ]
     },
     "metadata": {},
     "output_type": "display_data"
    },
    {
     "data": {
      "application/vnd.jupyter.widget-view+json": {
       "model_id": "e70d17e0ce0c4d9ba418c8e776a86147",
       "version_major": 2,
       "version_minor": 0
      },
      "text/plain": [
       "  0%|          | 0/1000000 [00:00<?, ?it/s]"
      ]
     },
     "metadata": {},
     "output_type": "display_data"
    },
    {
     "name": "stdout",
     "output_type": "stream",
     "text": [
      "SignificanceResult(statistic=-0.009012469739000384, pvalue=2.0120159136757018e-19)\n",
      "SignificanceResult(statistic=0.004634690191506849, pvalue=3.574634704127889e-06)\n",
      "999994\n",
      "rm\n",
      "289432\n"
     ]
    },
    {
     "data": {
      "application/vnd.jupyter.widget-view+json": {
       "model_id": "c9b95a1c04114a5483d3ac40cf33b156",
       "version_major": 2,
       "version_minor": 0
      },
      "text/plain": [
       "  0%|          | 0/1000000 [00:00<?, ?it/s]"
      ]
     },
     "metadata": {},
     "output_type": "display_data"
    },
    {
     "data": {
      "application/vnd.jupyter.widget-view+json": {
       "model_id": "157b3c011a114d37a50521555a1b645f",
       "version_major": 2,
       "version_minor": 0
      },
      "text/plain": [
       "  0%|          | 0/1000000 [00:00<?, ?it/s]"
      ]
     },
     "metadata": {},
     "output_type": "display_data"
    },
    {
     "data": {
      "application/vnd.jupyter.widget-view+json": {
       "model_id": "871a4746da0448ecb546285ee04cac24",
       "version_major": 2,
       "version_minor": 0
      },
      "text/plain": [
       "  0%|          | 0/1000000 [00:00<?, ?it/s]"
      ]
     },
     "metadata": {},
     "output_type": "display_data"
    },
    {
     "name": "stdout",
     "output_type": "stream",
     "text": [
      "SignificanceResult(statistic=0.07253475567953865, pvalue=0.0)\n",
      "SignificanceResult(statistic=0.01893497486113153, pvalue=5.698787275617193e-80)\n",
      "999992\n"
     ]
    }
   ],
   "source": [
    "print('buy')\n",
    "analysis(df_full, embs[:, 1024:], action='buy')\n",
    "print('add')\n",
    "analysis(df_full, embs[:, 1024:], action='add')\n",
    "print('rm')\n",
    "analysis(df_full, embs[:, 1024:], action='rm')"
   ]
  },
  {
   "cell_type": "code",
   "execution_count": 27,
   "id": "a66b216b-02ec-4c15-b2bf-417592831051",
   "metadata": {},
   "outputs": [
    {
     "name": "stdout",
     "output_type": "stream",
     "text": [
      "full\n",
      "buy\n",
      "510971\n"
     ]
    },
    {
     "data": {
      "application/vnd.jupyter.widget-view+json": {
       "model_id": "b42e74a555ee4829a7f0066604515d06",
       "version_major": 2,
       "version_minor": 0
      },
      "text/plain": [
       "  0%|          | 0/1000000 [00:00<?, ?it/s]"
      ]
     },
     "metadata": {},
     "output_type": "display_data"
    },
    {
     "data": {
      "application/vnd.jupyter.widget-view+json": {
       "model_id": "9774c81218f044d393fd98e864887ef6",
       "version_major": 2,
       "version_minor": 0
      },
      "text/plain": [
       "  0%|          | 0/1000000 [00:00<?, ?it/s]"
      ]
     },
     "metadata": {},
     "output_type": "display_data"
    },
    {
     "data": {
      "application/vnd.jupyter.widget-view+json": {
       "model_id": "800bb92e56564c4b9a8b62b7fc53b669",
       "version_major": 2,
       "version_minor": 0
      },
      "text/plain": [
       "  0%|          | 0/1000000 [00:00<?, ?it/s]"
      ]
     },
     "metadata": {},
     "output_type": "display_data"
    },
    {
     "name": "stdout",
     "output_type": "stream",
     "text": [
      "SignificanceResult(statistic=0.04461362592320651, pvalue=0.0)\n",
      "SignificanceResult(statistic=0.011134859173805606, pvalue=4.230054395623003e-29)\n",
      "999993\n",
      "add\n",
      "557093\n"
     ]
    },
    {
     "data": {
      "application/vnd.jupyter.widget-view+json": {
       "model_id": "188ece0b108640f984a30a74627cd188",
       "version_major": 2,
       "version_minor": 0
      },
      "text/plain": [
       "  0%|          | 0/1000000 [00:00<?, ?it/s]"
      ]
     },
     "metadata": {},
     "output_type": "display_data"
    },
    {
     "data": {
      "application/vnd.jupyter.widget-view+json": {
       "model_id": "20721f5f359840ce82b4c611010bdf80",
       "version_major": 2,
       "version_minor": 0
      },
      "text/plain": [
       "  0%|          | 0/1000000 [00:00<?, ?it/s]"
      ]
     },
     "metadata": {},
     "output_type": "display_data"
    },
    {
     "data": {
      "application/vnd.jupyter.widget-view+json": {
       "model_id": "3b91bf14ba1f4ca4ab09a0950c9038cb",
       "version_major": 2,
       "version_minor": 0
      },
      "text/plain": [
       "  0%|          | 0/1000000 [00:00<?, ?it/s]"
      ]
     },
     "metadata": {},
     "output_type": "display_data"
    },
    {
     "name": "stdout",
     "output_type": "stream",
     "text": [
      "SignificanceResult(statistic=0.13399380687282447, pvalue=0.0)\n",
      "SignificanceResult(statistic=0.019801024907761717, pvalue=1.405698358317962e-87)\n",
      "999994\n",
      "rm\n",
      "289432\n"
     ]
    },
    {
     "data": {
      "application/vnd.jupyter.widget-view+json": {
       "model_id": "602ecf31ce8943caa126a30843e21218",
       "version_major": 2,
       "version_minor": 0
      },
      "text/plain": [
       "  0%|          | 0/1000000 [00:00<?, ?it/s]"
      ]
     },
     "metadata": {},
     "output_type": "display_data"
    },
    {
     "data": {
      "application/vnd.jupyter.widget-view+json": {
       "model_id": "b3587810dc844ad484c574212c290dd2",
       "version_major": 2,
       "version_minor": 0
      },
      "text/plain": [
       "  0%|          | 0/1000000 [00:00<?, ?it/s]"
      ]
     },
     "metadata": {},
     "output_type": "display_data"
    },
    {
     "data": {
      "application/vnd.jupyter.widget-view+json": {
       "model_id": "89bb2d9ccbaf426abfe84cb64194af73",
       "version_major": 2,
       "version_minor": 0
      },
      "text/plain": [
       "  0%|          | 0/1000000 [00:00<?, ?it/s]"
      ]
     },
     "metadata": {},
     "output_type": "display_data"
    },
    {
     "name": "stdout",
     "output_type": "stream",
     "text": [
      "SignificanceResult(statistic=0.1366799524205363, pvalue=0.0)\n",
      "SignificanceResult(statistic=0.03454076718537825, pvalue=6.90966248843549e-262)\n",
      "999992\n",
      "1c\n",
      "buy\n",
      "510971\n"
     ]
    },
    {
     "data": {
      "application/vnd.jupyter.widget-view+json": {
       "model_id": "32b43da323d44bdfb32c3fcdfa1b31fa",
       "version_major": 2,
       "version_minor": 0
      },
      "text/plain": [
       "  0%|          | 0/1000000 [00:00<?, ?it/s]"
      ]
     },
     "metadata": {},
     "output_type": "display_data"
    },
    {
     "data": {
      "application/vnd.jupyter.widget-view+json": {
       "model_id": "d629f2d8a66e46d5b3e79c5bee7483c4",
       "version_major": 2,
       "version_minor": 0
      },
      "text/plain": [
       "  0%|          | 0/1000000 [00:00<?, ?it/s]"
      ]
     },
     "metadata": {},
     "output_type": "display_data"
    },
    {
     "data": {
      "application/vnd.jupyter.widget-view+json": {
       "model_id": "ef5a021f6dd3414eadf329794b004dc3",
       "version_major": 2,
       "version_minor": 0
      },
      "text/plain": [
       "  0%|          | 0/1000000 [00:00<?, ?it/s]"
      ]
     },
     "metadata": {},
     "output_type": "display_data"
    },
    {
     "name": "stdout",
     "output_type": "stream",
     "text": [
      "SignificanceResult(statistic=0.06498378026698967, pvalue=0.0)\n",
      "SignificanceResult(statistic=0.01263733103889208, pvalue=6.5349669289535845e-37)\n",
      "999993\n",
      "add\n",
      "557093\n"
     ]
    },
    {
     "data": {
      "application/vnd.jupyter.widget-view+json": {
       "model_id": "ccb8a01b3165416089c6f7da087884ed",
       "version_major": 2,
       "version_minor": 0
      },
      "text/plain": [
       "  0%|          | 0/1000000 [00:00<?, ?it/s]"
      ]
     },
     "metadata": {},
     "output_type": "display_data"
    },
    {
     "data": {
      "application/vnd.jupyter.widget-view+json": {
       "model_id": "a8c791e3bdbc4214be44bb7ab6b3d1b5",
       "version_major": 2,
       "version_minor": 0
      },
      "text/plain": [
       "  0%|          | 0/1000000 [00:00<?, ?it/s]"
      ]
     },
     "metadata": {},
     "output_type": "display_data"
    },
    {
     "data": {
      "application/vnd.jupyter.widget-view+json": {
       "model_id": "4db81d98724247a3aa255cb97f6eccdd",
       "version_major": 2,
       "version_minor": 0
      },
      "text/plain": [
       "  0%|          | 0/1000000 [00:00<?, ?it/s]"
      ]
     },
     "metadata": {},
     "output_type": "display_data"
    },
    {
     "name": "stdout",
     "output_type": "stream",
     "text": [
      "SignificanceResult(statistic=0.16655750092284746, pvalue=0.0)\n",
      "SignificanceResult(statistic=0.022476427348290563, pvalue=3.3183318187068126e-112)\n",
      "999994\n",
      "rm\n",
      "289432\n"
     ]
    },
    {
     "data": {
      "application/vnd.jupyter.widget-view+json": {
       "model_id": "52104368fa264b1f95db4bf031222000",
       "version_major": 2,
       "version_minor": 0
      },
      "text/plain": [
       "  0%|          | 0/1000000 [00:00<?, ?it/s]"
      ]
     },
     "metadata": {},
     "output_type": "display_data"
    },
    {
     "data": {
      "application/vnd.jupyter.widget-view+json": {
       "model_id": "5494ca3f51f940ba95e76302098e1c9c",
       "version_major": 2,
       "version_minor": 0
      },
      "text/plain": [
       "  0%|          | 0/1000000 [00:00<?, ?it/s]"
      ]
     },
     "metadata": {},
     "output_type": "display_data"
    },
    {
     "data": {
      "application/vnd.jupyter.widget-view+json": {
       "model_id": "36c7fa658ded4eabb2b9224330b6f328",
       "version_major": 2,
       "version_minor": 0
      },
      "text/plain": [
       "  0%|          | 0/1000000 [00:00<?, ?it/s]"
      ]
     },
     "metadata": {},
     "output_type": "display_data"
    },
    {
     "name": "stdout",
     "output_type": "stream",
     "text": [
      "SignificanceResult(statistic=0.13739591574646817, pvalue=0.0)\n",
      "SignificanceResult(statistic=0.03495362933969878, pvalue=3.9494140200888815e-268)\n",
      "999992\n",
      "ema\n",
      "buy\n",
      "510971\n"
     ]
    },
    {
     "data": {
      "application/vnd.jupyter.widget-view+json": {
       "model_id": "a226bf25c9b445cba63e5db0588369e4",
       "version_major": 2,
       "version_minor": 0
      },
      "text/plain": [
       "  0%|          | 0/1000000 [00:00<?, ?it/s]"
      ]
     },
     "metadata": {},
     "output_type": "display_data"
    },
    {
     "data": {
      "application/vnd.jupyter.widget-view+json": {
       "model_id": "05d4bb94fb1a438f9a23c3c34744e1be",
       "version_major": 2,
       "version_minor": 0
      },
      "text/plain": [
       "  0%|          | 0/1000000 [00:00<?, ?it/s]"
      ]
     },
     "metadata": {},
     "output_type": "display_data"
    },
    {
     "data": {
      "application/vnd.jupyter.widget-view+json": {
       "model_id": "94a6691d6e85461ab12ea2bccfcbee1e",
       "version_major": 2,
       "version_minor": 0
      },
      "text/plain": [
       "  0%|          | 0/1000000 [00:00<?, ?it/s]"
      ]
     },
     "metadata": {},
     "output_type": "display_data"
    },
    {
     "name": "stdout",
     "output_type": "stream",
     "text": [
      "SignificanceResult(statistic=-0.02513945110165957, pvalue=1.0)\n",
      "SignificanceResult(statistic=0.0015354770574672243, pvalue=0.062334128237766066)\n",
      "999993\n",
      "add\n",
      "557093\n"
     ]
    },
    {
     "data": {
      "application/vnd.jupyter.widget-view+json": {
       "model_id": "e650c161ea6945c8a4c9d9698ea64082",
       "version_major": 2,
       "version_minor": 0
      },
      "text/plain": [
       "  0%|          | 0/1000000 [00:00<?, ?it/s]"
      ]
     },
     "metadata": {},
     "output_type": "display_data"
    },
    {
     "data": {
      "application/vnd.jupyter.widget-view+json": {
       "model_id": "2abd98db00a54a668e8e81d3c5ac2f8f",
       "version_major": 2,
       "version_minor": 0
      },
      "text/plain": [
       "  0%|          | 0/1000000 [00:00<?, ?it/s]"
      ]
     },
     "metadata": {},
     "output_type": "display_data"
    },
    {
     "data": {
      "application/vnd.jupyter.widget-view+json": {
       "model_id": "683d181f699b450fad1c56791d0efb7c",
       "version_major": 2,
       "version_minor": 0
      },
      "text/plain": [
       "  0%|          | 0/1000000 [00:00<?, ?it/s]"
      ]
     },
     "metadata": {},
     "output_type": "display_data"
    },
    {
     "name": "stdout",
     "output_type": "stream",
     "text": [
      "SignificanceResult(statistic=-0.009012469739000384, pvalue=1.0)\n",
      "SignificanceResult(statistic=0.004634690191506849, pvalue=1.7873173520639445e-06)\n",
      "999994\n",
      "rm\n",
      "289432\n"
     ]
    },
    {
     "data": {
      "application/vnd.jupyter.widget-view+json": {
       "model_id": "c33aec891a0949169d2df2a823cd3306",
       "version_major": 2,
       "version_minor": 0
      },
      "text/plain": [
       "  0%|          | 0/1000000 [00:00<?, ?it/s]"
      ]
     },
     "metadata": {},
     "output_type": "display_data"
    },
    {
     "data": {
      "application/vnd.jupyter.widget-view+json": {
       "model_id": "86f9777a46e041d6bf64fe3c660a38be",
       "version_major": 2,
       "version_minor": 0
      },
      "text/plain": [
       "  0%|          | 0/1000000 [00:00<?, ?it/s]"
      ]
     },
     "metadata": {},
     "output_type": "display_data"
    },
    {
     "data": {
      "application/vnd.jupyter.widget-view+json": {
       "model_id": "b1dfbb84c952459b9823cf224b620ae2",
       "version_major": 2,
       "version_minor": 0
      },
      "text/plain": [
       "  0%|          | 0/1000000 [00:00<?, ?it/s]"
      ]
     },
     "metadata": {},
     "output_type": "display_data"
    },
    {
     "name": "stdout",
     "output_type": "stream",
     "text": [
      "SignificanceResult(statistic=0.07253475567953865, pvalue=0.0)\n",
      "SignificanceResult(statistic=0.01893497486113153, pvalue=2.8493936378085965e-80)\n",
      "999992\n"
     ]
    }
   ],
   "source": [
    "print('full')\n",
    "print('buy')\n",
    "analysis(df_full, embs, action='buy', alternative='greater')\n",
    "print('add')\n",
    "analysis(df_full, embs, action='add', alternative='greater')\n",
    "print('rm')\n",
    "analysis(df_full, embs, action='rm', alternative='greater')\n",
    "\n",
    "print('1c')\n",
    "print('buy')\n",
    "analysis(df_full, embs[:, :1024], action='buy', alternative='greater')\n",
    "print('add')\n",
    "analysis(df_full, embs[:, :1024], action='add', alternative='greater')\n",
    "print('rm')\n",
    "analysis(df_full, embs[:, :1024], action='rm', alternative='greater')\n",
    "\n",
    "print('ema')\n",
    "print('buy')\n",
    "analysis(df_full, embs[:, 1024:], action='buy', alternative='greater')\n",
    "print('add')\n",
    "analysis(df_full, embs[:, 1024:], action='add', alternative='greater')\n",
    "print('rm')\n",
    "analysis(df_full, embs[:, 1024:], action='rm', alternative='greater')"
   ]
  }
 ],
 "metadata": {
  "kernelspec": {
   "display_name": "Python 3 (ipykernel)",
   "language": "python",
   "name": "python3"
  },
  "language_info": {
   "codemirror_mode": {
    "name": "ipython",
    "version": 3
   },
   "file_extension": ".py",
   "mimetype": "text/x-python",
   "name": "python",
   "nbconvert_exporter": "python",
   "pygments_lexer": "ipython3",
   "version": "3.11.7"
  }
 },
 "nbformat": 4,
 "nbformat_minor": 5
}
