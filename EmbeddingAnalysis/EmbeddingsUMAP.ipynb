{
 "cells": [
  {
   "cell_type": "code",
   "execution_count": 1,
   "id": "021c9893-725f-4d6b-bb6e-276bc101c1f7",
   "metadata": {},
   "outputs": [],
   "source": [
    "%load_ext autoreload \n",
    "%autoreload 2"
   ]
  },
  {
   "cell_type": "code",
   "execution_count": 2,
   "id": "375b9cbd-5bd9-4af0-80c7-06937e67dbec",
   "metadata": {},
   "outputs": [],
   "source": [
    "import os\n",
    "from umap import UMAP\n",
    "import numpy as np"
   ]
  },
  {
   "cell_type": "code",
   "execution_count": 3,
   "id": "9e1ac307-7084-4549-812a-fe98c90b186c",
   "metadata": {},
   "outputs": [],
   "source": [
    "embs = ['Models/EMA_OneCycleLarge', 'Models/emb-8ShortVAECATURLFullNAOCLarAVG', 'Models/emb-8ShortVAECATURLFullNAEMAAVG']\n",
    "files = ['full.npy', 'OCLarge.npy', 'EMA.npy']\n",
    "embs_half = ['Models/emb-8ShortVAECATURLFullNAOCLarAVG', 'Models/emb-8ShortVAECATURLFullNAEMAAVG']\n",
    "files_half = ['OCLarge_half.npy', 'EMA_half.npy']"
   ]
  },
  {
   "cell_type": "code",
   "execution_count": 4,
   "id": "b1416a30-2213-4c4b-a1d1-6e43c5fa56d3",
   "metadata": {},
   "outputs": [],
   "source": [
    "if not os.path.exists('analysis'):\n",
    "    os.makedirs('analysis')"
   ]
  },
  {
   "cell_type": "code",
   "execution_count": 5,
   "id": "0f38ec35-1da7-42cf-84a4-5ae219fab2a2",
   "metadata": {},
   "outputs": [
    {
     "name": "stdout",
     "output_type": "stream",
     "text": [
      "Processing analysis\\full.npy\n",
      "Processing analysis\\OCLarge.npy\n",
      "Processing analysis\\EMA.npy\n"
     ]
    }
   ],
   "source": [
    "for e, f in zip(embs, files):\n",
    "    target = f'analysis{os.sep}{f}'\n",
    "    print(f'Processing {target}')\n",
    "    if not os.path.exists(target):\n",
    "        reducer = UMAP(n_neighbors=15, n_components=2, metric='cosine', verbose=True, random_state=42)\n",
    "        X = np.load(f'{e}{os.sep}embeddings.npy')\n",
    "        embedding = reducer.fit_transform(X)\n",
    "        np.save(target, embedding)"
   ]
  },
  {
   "cell_type": "code",
   "execution_count": 6,
   "id": "20899cc4-fe43-41b9-86da-8119680f1777",
   "metadata": {},
   "outputs": [
    {
     "name": "stdout",
     "output_type": "stream",
     "text": [
      "Processing analysis\\OCLarge_half.npy\n",
      "Processing analysis\\EMA_half.npy\n"
     ]
    }
   ],
   "source": [
    "for e, f in zip(embs_half, files_half):\n",
    "    target = f'analysis{os.sep}{f}'\n",
    "    print(f'Processing {target}')\n",
    "    if not os.path.exists(target):\n",
    "        reducer = UMAP(n_neighbors=15, n_components=2, metric='cosine', verbose=True, random_state=42)\n",
    "        X = np.load(f'{e}{os.sep}embeddings.npy')[:, :512]\n",
    "        embedding = reducer.fit_transform(X)\n",
    "        np.save(target, embedding)"
   ]
  },
  {
   "cell_type": "code",
   "execution_count": 7,
   "id": "1244331d-a25c-45a5-8005-08d5160d4496",
   "metadata": {},
   "outputs": [],
   "source": [
    "embs = ['Models/EMA_OneCycleLarge', 'Models/emb-8ShortVAECATURLFullNAOCLarAVG', 'Models/emb-8ShortVAECATURLFullNAEMAAVG']\n",
    "files = ['full_eu.npy', 'OCLarge_eu.npy', 'EMA_eu.npy']\n",
    "embs_half = ['Models/emb-8ShortVAECATURLFullNAOCLarAVG', 'Models/emb-8ShortVAECATURLFullNAEMAAVG']\n",
    "files_half = ['OCLarge_half_eu.npy', 'EMA_half_eu.npy']"
   ]
  },
  {
   "cell_type": "code",
   "execution_count": 8,
   "id": "d2936143-fb51-4105-beab-52ec11f0f94d",
   "metadata": {},
   "outputs": [
    {
     "name": "stdout",
     "output_type": "stream",
     "text": [
      "Processing analysis\\full_eu.npy\n",
      "Processing analysis\\OCLarge_eu.npy\n",
      "Processing analysis\\EMA_eu.npy\n",
      "Processing analysis\\OCLarge_half_eu.npy\n",
      "Processing analysis\\EMA_half_eu.npy\n"
     ]
    },
    {
     "name": "stderr",
     "output_type": "stream",
     "text": [
      "C:\\Users\\HF72WT\\AppData\\Local\\anaconda3\\envs\\torch\\Lib\\site-packages\\umap\\umap_.py:1952: UserWarning: n_jobs value 1 overridden to 1 by setting random_state. Use no seed for parallelism.\n",
      "  warn(\n"
     ]
    },
    {
     "name": "stdout",
     "output_type": "stream",
     "text": [
      "UMAP(n_jobs=1, random_state=42, verbose=True)\n",
      "Thu Jul  3 09:37:42 2025 Construct fuzzy simplicial set\n",
      "Thu Jul  3 09:37:43 2025 Finding Nearest Neighbors\n",
      "Thu Jul  3 09:37:43 2025 Building RP forest with 55 trees\n",
      "Thu Jul  3 09:42:17 2025 NN descent for 20 iterations\n",
      "\t 1  /  20\n",
      "\t 2  /  20\n",
      "\t 3  /  20\n",
      "\t 4  /  20\n",
      "\t 5  /  20\n",
      "\t 6  /  20\n",
      "\t 7  /  20\n",
      "\tStopping threshold met -- exiting after 7 iterations\n",
      "Thu Jul  3 09:45:14 2025 Finished Nearest Neighbor Search\n",
      "Thu Jul  3 09:45:23 2025 Construct embedding\n"
     ]
    },
    {
     "data": {
      "application/vnd.jupyter.widget-view+json": {
       "model_id": "40a58116ca384d9ab6179372eee47c83",
       "version_major": 2,
       "version_minor": 0
      },
      "text/plain": [
       "Epochs completed:   0%|            0/200 [00:00]"
      ]
     },
     "metadata": {},
     "output_type": "display_data"
    },
    {
     "name": "stdout",
     "output_type": "stream",
     "text": [
      "\tcompleted  0  /  200 epochs\n",
      "\tcompleted  20  /  200 epochs\n",
      "\tcompleted  40  /  200 epochs\n",
      "\tcompleted  60  /  200 epochs\n",
      "\tcompleted  80  /  200 epochs\n",
      "\tcompleted  100  /  200 epochs\n",
      "\tcompleted  120  /  200 epochs\n",
      "\tcompleted  140  /  200 epochs\n",
      "\tcompleted  160  /  200 epochs\n",
      "\tcompleted  180  /  200 epochs\n",
      "Thu Jul  3 10:07:12 2025 Finished embedding\n"
     ]
    }
   ],
   "source": [
    "for e, f in zip(embs, files):\n",
    "    target = f'analysis{os.sep}{f}'\n",
    "    print(f'Processing {target}')\n",
    "    if not os.path.exists(target):\n",
    "        reducer = UMAP(n_neighbors=15, n_components=2, metric='euclidean', verbose=True, random_state=42)\n",
    "        X = np.load(f'{e}{os.sep}embeddings.npy')\n",
    "        embedding = reducer.fit_transform(X)\n",
    "        np.save(target, embedding)\n",
    "\n",
    "for e, f in zip(embs_half, files_half):\n",
    "    target = f'analysis{os.sep}{f}'\n",
    "    print(f'Processing {target}')\n",
    "    if not os.path.exists(target):\n",
    "        reducer = UMAP(n_neighbors=15, n_components=2, metric='euclidean', verbose=True, random_state=42)\n",
    "        X = np.load(f'{e}{os.sep}embeddings.npy')[:, :512]\n",
    "        embedding = reducer.fit_transform(X)\n",
    "        np.save(target, embedding)"
   ]
  },
  {
   "cell_type": "code",
   "execution_count": null,
   "id": "695ed6f8-570f-48ce-a94d-19007ba10efa",
   "metadata": {},
   "outputs": [],
   "source": []
  }
 ],
 "metadata": {
  "kernelspec": {
   "display_name": "Python 3 (ipykernel)",
   "language": "python",
   "name": "python3"
  },
  "language_info": {
   "codemirror_mode": {
    "name": "ipython",
    "version": 3
   },
   "file_extension": ".py",
   "mimetype": "text/x-python",
   "name": "python",
   "nbconvert_exporter": "python",
   "pygments_lexer": "ipython3",
   "version": "3.11.7"
  }
 },
 "nbformat": 4,
 "nbformat_minor": 5
}
